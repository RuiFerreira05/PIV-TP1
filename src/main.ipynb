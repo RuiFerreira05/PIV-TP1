{
 "cells": [
  {
   "cell_type": "code",
   "execution_count": 2,
   "id": "856a9b64",
   "metadata": {},
   "outputs": [],
   "source": [
    "import cv2\n",
    "import numpy as np\n",
    "import matplotlib.pyplot as plt\n",
    "import psColor, bwLabel\n",
    "import os\n",
    "\n",
    "TRAIN_DIR = os.listdir(path='../data/treino')\n",
    "DATA = [cv2.imread('../data/treino/' + image_path) for image_path in TRAIN_DIR]\n",
    "TARGETS = [7, 5, 3, 4, 2, 4, 0, 3, 4, 4, 4, 1, 4, 3]"
   ]
  },
  {
   "cell_type": "code",
   "execution_count": 3,
   "id": "32ea01da",
   "metadata": {},
   "outputs": [],
   "source": [
    "def showImages(imageArray, titles):\n",
    "    for i, img in enumerate(imageArray):\n",
    "        cv2.imshow(titles[i], img)\n",
    "    cv2.waitKey(0)\n",
    "    cv2.destroyAllWindows()"
   ]
  },
  {
   "cell_type": "code",
   "execution_count": 109,
   "id": "ddae031f",
   "metadata": {},
   "outputs": [],
   "source": [
    "#1. Leitura de imagens\n",
    "\n",
    "image= DATA[8]\n",
    "\n",
    "showImages([image], [\"Imagem Original\"])"
   ]
  },
  {
   "cell_type": "code",
   "execution_count": 26,
   "id": "f9601e4d",
   "metadata": {
    "scrolled": true
   },
   "outputs": [
    {
     "data": {
      "image/png": "[encoded data removed]",
      "text/plain": [
       "<Figure size 640x480 with 1 Axes>"
      ]
     },
     "metadata": {},
     "output_type": "display_data"
    }
   ],
   "source": [
    "#2. Binarização \n",
    "\n",
    "def binarizacao (image, tolerance):\n",
    "    \"\"\"\n",
    "    Função para realizar a binarização da imagem de modo a destacar os objetos presentes na mesma.\n",
    "\n",
    "    Args:\n",
    "        -image (np.array): Array da imagem em RGB que representa a imagem a ser binarização.\n",
    "        -tolerance (int): Tolerância usada para calcular o range da componente Hue da cor de fundo da imagem. \n",
    "\n",
    "    Returns:\n",
    "        -image_objects (np.array): Array da imagem RGB sem fundo.\n",
    "        -bin_image (np.array): Array da imagem binarizada.\n",
    "    \n",
    "    \"\"\"\n",
    "    \n",
    "    image_hsv = cv2.cvtColor(image, cv2.COLOR_BGR2HSV)\n",
    "    \n",
    "    #Obter a range de cores do fundo\n",
    "    hist= cv2.calcHist(image_hsv, [0], None, [179], [0,179])\n",
    "    plt.plot(hist)\n",
    "    max_hue_idx= np.argmax(hist) #Obter o valor de hue que aparece mais na imagem\n",
    "    low_hue= np.array([max_hue_idx - tolerance, 0, 0])\n",
    "    high_hue= np.array([max_hue_idx + tolerance, 255, 255])\n",
    "    \n",
    "    #Tirar background da imagem através dos ranges de hue dados\n",
    "    background_mask= cv2.inRange(image_hsv, low_hue, high_hue)\n",
    "    inverted_mask= 255 - background_mask\n",
    "    image_objects= cv2.bitwise_and(image, image, mask=inverted_mask)\n",
    "    \n",
    "    image_gs= cv2.cvtColor(image_objects, cv2.COLOR_BGR2GRAY)\n",
    "    thresh, tresh_img= cv2.threshold(image_gs, 0, 255, cv2.THRESH_OTSU)\n",
    "    bin_image= cv2.cvtColor(tresh_img, cv2.COLOR_GRAY2BGR)\n",
    "\n",
    "    return image_objects, bin_image\n",
    "\n",
    "image_objects, bin_image= binarizacao(image, 20)\n",
    "showImages([image_objects, bin_image], [\"Imagem sem background\", \"Imagem Binarizada\"])\n"
   ]
  },
  {
   "cell_type": "code",
   "execution_count": null,
   "id": "611ee82c",
   "metadata": {},
   "outputs": [],
   "source": [
    "#3. melhoramento da imagem\n",
    "\n",
    "kernel_close = cv2.getStructuringElement(cv2.MORPH_ELLIPSE, (5, 5))\n",
    "image_opt = cv2.morphologyEx(tresh_img, cv2.MORPH_CLOSE, kernel_close)\n",
    "kernel_open = cv2.getStructuringElement(cv2.MORPH_ELLIPSE, (15, 15))\n",
    "image_opt = cv2.morphologyEx(image_opt, cv2.MORPH_OPEN, kernel_open, iterations=2)\n",
    "showImages([image_opt], [\"Imagem apos melhoramento\"])"
   ]
  },
  {
   "cell_type": "code",
   "execution_count": 24,
   "id": "93bcfca8",
   "metadata": {},
   "outputs": [],
   "source": [
    "# Extração de componentes conexos\n",
    "\n",
    "# contours = cv2.findContours(image_opt, cv2.RETR_TREE, cv2.CHAIN_APPROX_SIMPLE)\n",
    "# contours"
   ]
  },
  {
   "cell_type": "code",
   "execution_count": null,
   "id": "5abfd2a9-d9e0-4c7d-9a42-90774380647c",
   "metadata": {},
   "outputs": [],
   "source": [
    "#Extração de de propriedades\n",
    "\n"
   ]
  }
 ],
 "metadata": {
  "kernelspec": {
   "display_name": "Python 3 (ipykernel)",
   "language": "python",
   "name": "python3"
  },
  "language_info": {
   "codemirror_mode": {
    "name": "ipython",
    "version": 3
   },
   "file_extension": ".py",
   "mimetype": "text/x-python",
   "name": "python",
   "nbconvert_exporter": "python",
   "pygments_lexer": "ipython3",
   "version": "3.11.5"
  }
 },
 "nbformat": 4,
 "nbformat_minor": 5
}
