{
 "cells": [
  {
   "cell_type": "code",
   "execution_count": 8,
   "id": "856a9b64",
   "metadata": {},
   "outputs": [],
   "source": [
    "import cv2\n",
    "import numpy as np\n",
    "import matplotlib.pyplot as plt\n",
    "import psColor, bwLabel\n",
    "import os\n",
    "\n",
    "TRAIN_DIR = os.listdir(path='../data/treino')\n",
    "DATA = [cv2.imread('../data/treino/' + image_path) for image_path in TRAIN_DIR]\n",
    "TARGETS = [7, 5, 3, 4, 2, 4, 0, 3, 4, 4, 4, 1, 4, 3]"
   ]
  },
  {
   "cell_type": "code",
   "execution_count": 9,
   "id": "32ea01da",
   "metadata": {},
   "outputs": [],
   "source": [
    "def showImages(imageArray, titles):\n",
    "    for i, img in enumerate(imageArray):\n",
    "        cv2.imshow(titles[i], img)\n",
    "    cv2.waitKey(0)\n",
    "    cv2.destroyAllWindows()"
   ]
  },
  {
   "cell_type": "code",
   "execution_count": 109,
   "id": "ddae031f",
   "metadata": {},
   "outputs": [],
   "source": [
    "#1. Leitura de imagens\n",
    "\n",
    "image= DATA[8]\n",
    "\n",
    "showImages([image], [\"Imagem Original\"])"
   ]
  },
  {
   "cell_type": "code",
   "execution_count": 110,
   "id": "f9601e4d",
   "metadata": {},
   "outputs": [],
   "source": [
    "#2. Binarização \n",
    "\n",
    "#Tirar background\n",
    "image_hsv = cv2.cvtColor(image, cv2.COLOR_BGR2HSV)\n",
    "blue_low= np.array([100, 100, 0])\n",
    "blue_high= np.array([140, 255, 255])\n",
    "background_mask= cv2.inRange(image_hsv, blue_low, blue_high)\n",
    "inverted_mask= 255 - background_mask\n",
    "image_objects= cv2.bitwise_and(image, image, mask=inverted_mask)\n",
    "\n",
    "# cv2.imshow('Mask', inverted_mask)\n",
    "\n",
    "image_gs= cv2.cvtColor(image_objects, cv2.COLOR_BGR2GRAY)\n",
    "\n",
    "thresh, tresh_img= cv2.threshold(image_gs, 0, 255, cv2.THRESH_OTSU)\n",
    "\n",
    "aux_1= cv2.cvtColor(tresh_img, cv2.COLOR_GRAY2BGR)\n",
    "\n",
    "showImages([image_objects, aux_1], [\"Imagem sem background\", \"Imagem Binarizada\"])"
   ]
  },
  {
   "cell_type": "code",
   "execution_count": null,
   "id": "611ee82c",
   "metadata": {},
   "outputs": [],
   "source": [
    "#3. melhoramento da imagem\n",
    "\n",
    "kernel_close = cv2.getStructuringElement(cv2.MORPH_ELLIPSE, (5, 5))\n",
    "image_opt = cv2.morphologyEx(tresh_img, cv2.MORPH_CLOSE, kernel_close)\n",
    "kernel_open = cv2.getStructuringElement(cv2.MORPH_ELLIPSE, (15, 15))\n",
    "image_opt = cv2.morphologyEx(image_opt, cv2.MORPH_OPEN, kernel_open, iterations=2)\n",
    "showImages([image_opt], [\"Imagem após melhoramento\"])"
   ]
  },
  {
   "cell_type": "code",
   "execution_count": null,
   "id": "93bcfca8",
   "metadata": {},
   "outputs": [],
   "source": [
    "# Extração de componentes conexos\n",
    "\n"
   ]
  }
 ],
 "metadata": {
  "kernelspec": {
   "display_name": "Python 3",
   "language": "python",
   "name": "python3"
  },
  "language_info": {
   "codemirror_mode": {
    "name": "ipython",
    "version": 3
   },
   "file_extension": ".py",
   "mimetype": "text/x-python",
   "name": "python",
   "nbconvert_exporter": "python",
   "pygments_lexer": "ipython3",
   "version": "3.13.7"
  }
 },
 "nbformat": 4,
 "nbformat_minor": 5
}
