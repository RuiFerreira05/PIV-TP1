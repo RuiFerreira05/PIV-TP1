{
 "cells": [
  {
   "cell_type": "code",
   "execution_count": 2,
   "id": "856a9b64",
   "metadata": {},
   "outputs": [],
   "source": [
    "import cv2\n",
    "import numpy as np\n",
    "import matplotlib.pyplot as plt\n",
    "import psColor, bwLabel\n",
    "import os\n",
    "\n",
    "TRAIN_DIR = os.listdir(path='../data/treino')\n",
    "DATA = [cv2.imread('../data/treino/' + image_path) for image_path in TRAIN_DIR]\n",
    "TARGETS = [7, 5, 3, 4, 2, 4, 0, 3, 4, 4, 4, 1, 4, 3]"
   ]
  },
  {
   "cell_type": "code",
   "execution_count": null,
   "id": "ddae031f",
   "metadata": {},
   "outputs": [],
   "source": [
    "#1. Leitura de imagens\n",
    "\n",
    "image= DATA[8]\n",
    "\n",
    "cv2.imshow('Imagem Original',image)\n",
    "\n",
    "cv2.waitKey(0)\n",
    "cv2.destroyAllWindows()"
   ]
  },
  {
   "cell_type": "code",
   "execution_count": 14,
   "id": "f9601e4d",
   "metadata": {},
   "outputs": [],
   "source": [
    "#2. Binarização \n",
    "\n",
    "#Tirar background\n",
    "image_hsv = cv2.cvtColor(image, cv2.COLOR_BGR2HSV)\n",
    "blue_low= np.array([100, 100, 0])\n",
    "blue_high= np.array([140, 255, 255])\n",
    "background_mask= cv2.inRange(image_hsv, blue_low, blue_high)\n",
    "inverted_mask= 255 - background_mask\n",
    "image_objects= cv2.bitwise_and(image, image, mask=inverted_mask)\n",
    "\n",
    "# cv2.imshow('Mask', inverted_mask)\n",
    "cv2.imshow('Imagem sem backgound', image_objects)\n",
    "\n",
    "image_gs= cv2.cvtColor(image_objects, cv2.COLOR_BGR2GRAY)\n",
    "\n",
    "thresh, tresh_img= cv2.threshold(image_gs, 150, 255, cv2.THRESH_BINARY)\n",
    "\n",
    "aux_1= cv2.cvtColor(tresh_img, cv2.COLOR_GRAY2BGR)\n",
    "cv2.imshow('Imagem Binarizada', aux_1)\n",
    "\n",
    "cv2.waitKey(0)\n",
    "cv2.destroyAllWindows()"
   ]
  }
 ],
 "metadata": {
  "kernelspec": {
   "display_name": "Python 3",
   "language": "python",
   "name": "python3"
  },
  "language_info": {
   "codemirror_mode": {
    "name": "ipython",
    "version": 3
   },
   "file_extension": ".py",
   "mimetype": "text/x-python",
   "name": "python",
   "nbconvert_exporter": "python",
   "pygments_lexer": "ipython3",
   "version": "3.13.7"
  }
 },
 "nbformat": 4,
 "nbformat_minor": 5
}
